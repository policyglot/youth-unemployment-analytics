{
 "cells": [
  {
   "cell_type": "code",
   "execution_count": 10,
   "metadata": {},
   "outputs": [],
   "source": [
    "#This document combines concatenates a bunch of Excel files, the merges them with a large CSV on serial numbers\n",
    "import numpy as np\n",
    "import pandas as pd\n",
    "import os\n",
    "import glob\n",
    "\n",
    "DATA_SOURCE='D:\\Dropbox\\Dropbox\\Programming\\S2S_Data'\n",
    "LMS_DATA_SOURCE= 'D:\\Dropbox\\Dropbox\\Programming\\S2S_Data\\S2S3_LMS'\n",
    "\n",
    "os.chdir(DATA_SOURCE)\n",
    "LMS_STRING=\"_REPORT\"\n",
    "\n",
    "# get data file names\n",
    "filenames = glob.glob(LMS_DATA_SOURCE + \"/*.xlsx\")\n",
    "\n",
    "all_data = []\n",
    "for f in filenames:\n",
    "    if LMS_STRING in f:\n",
    "        all_data.append(pd.read_excel(f, sheet_name=\"Batch 1_LC\", skip_rows=[1,2]))\n",
    "\n",
    "all_data = pd.concat(all_data, axis=1)\n",
    "\n",
    "all_data.to_csv('joined_lms.csv')\n",
    "#print(all_data)"
   ]
  },
  {
   "cell_type": "code",
   "execution_count": null,
   "metadata": {},
   "outputs": [],
   "source": [
    "#This cell merges all the Excel files (only relevant worksheet)"
   ]
  },
  {
   "cell_type": "code",
   "execution_count": null,
   "metadata": {},
   "outputs": [],
   "source": [
    "#This cell merges with the placement data\n",
    "\n",
    "os.chdir(DATA_SOURCE)\n",
    "LMS_STRING=\"_REPORT\"\n",
    "\n",
    "# get data file names\n",
    "filenames = glob.glob(LMS_DATA_SOURCE + \"/*.xlsx\")\n",
    "\n",
    "all_data = []\n",
    "for f in glob.glob(LMS_DATA_SOURCE+\"/*.xlsx\"):\n",
    "    if LMS_STRING in f:\n",
    "        all_data.append(pd.read_excel(f, sheet_name=\"Batch 1_LC\")\n",
    "\n",
    "\n",
    "\n",
    "#placement= pd.read_csv('S2S_P3.csv')\n",
    "\n"
   ]
  }
 ],
 "metadata": {
  "kernelspec": {
   "display_name": "Python 3",
   "language": "python",
   "name": "python3"
  },
  "language_info": {
   "codemirror_mode": {
    "name": "ipython",
    "version": 3
   },
   "file_extension": ".py",
   "mimetype": "text/x-python",
   "name": "python",
   "nbconvert_exporter": "python",
   "pygments_lexer": "ipython3",
   "version": "3.6.5"
  }
 },
 "nbformat": 4,
 "nbformat_minor": 2
}
